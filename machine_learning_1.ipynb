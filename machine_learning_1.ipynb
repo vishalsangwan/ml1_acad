{
 "cells": [
  {
   "cell_type": "markdown",
   "metadata": {},
   "source": [
    "### 1. What are the three stages to build the hypotheses or model in machine learning?"
   ]
  },
  {
   "cell_type": "markdown",
   "metadata": {},
   "source": [
    "Hypothesis testing and confidence intervals allow us to use only sample data to draw conclusions about an entire population.\n",
    "<br />\n",
    "The first stage involves building the model from raw data and finding the right questions that need to be asked from data or setting up null and alternative hypothesis.The null hypothesis is what we assume to be true before we collect any data, and the alternative is usually what we want to try and prove to be true.\n",
    "<br />\n",
    "The second stage involve model testing. that is testing the model.checking p values. The p -values should be less than the threshold that is set by you.\n",
    "<br />\n",
    "The final stage is applying the model to all data"
   ]
  },
  {
   "cell_type": "markdown",
   "metadata": {},
   "source": [
    "### 2. What is the standard approach to supervised learning?"
   ]
  },
  {
   "cell_type": "markdown",
   "metadata": {},
   "source": [
    "Supervised learning is applied when we have labelled data\n",
    "that is we have input variables mapping to output variables.\n",
    "</br>\n",
    "we divide the data into training examples and test examples and apply our supervised \n",
    "learning algorith to training data and train our algo to find the best coefficient for our feature data set"
   ]
  },
  {
   "cell_type": "markdown",
   "metadata": {},
   "source": [
    "### 3. What is Training set and Test set?"
   ]
  },
  {
   "cell_type": "markdown",
   "metadata": {},
   "source": [
    "We divide our data into sets one is training set and other is test set.\n",
    "we train our model on training set and examples\n",
    "and we evaluate our model using accuracy and cross validation etc on the test data set before deploying our model to the real world"
   ]
  },
  {
   "cell_type": "markdown",
   "metadata": {},
   "source": [
    "### 4. What is the general principle of an ensemble method and what is bagging and boosting in ensemble method?"
   ]
  },
  {
   "cell_type": "markdown",
   "metadata": {},
   "source": [
    "Ensemble methods use multiple models to obtain better performances that is averaging result\n",
    "from number of different models.\n",
    "<br/>\n",
    "Ensemble techniques can be broadly divided into two types:\n",
    "<br/>\n",
    "Bagging:In this method several estimators are run independently `\n",
    "    and their predictions are averaged like random forest.\n",
    "    <br/>\n",
    "Boosting:In this method we build weak learns sequentially using weighted distributions of the data based on the error rates."
   ]
  },
  {
   "cell_type": "markdown",
   "metadata": {},
   "source": [
    "### 5. How can you avoid overfitting ?"
   ]
  },
  {
   "cell_type": "markdown",
   "metadata": {},
   "source": [
    "By using a lot of data overfitting can be avoided, overfitting happens relatively as you have a small dataset, and you try to learn from it."
   ]
  },
  {
   "cell_type": "code",
   "execution_count": null,
   "metadata": {},
   "outputs": [],
   "source": []
  }
 ],
 "metadata": {
  "kernelspec": {
   "display_name": "Python [conda env:Anaconda3]",
   "language": "python",
   "name": "conda-env-Anaconda3-py"
  },
  "language_info": {
   "codemirror_mode": {
    "name": "ipython",
    "version": 3
   },
   "file_extension": ".py",
   "mimetype": "text/x-python",
   "name": "python",
   "nbconvert_exporter": "python",
   "pygments_lexer": "ipython3",
   "version": "3.6.5"
  }
 },
 "nbformat": 4,
 "nbformat_minor": 2
}
